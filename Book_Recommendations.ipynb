{
 "cells": [
  {
   "cell_type": "code",
   "execution_count": 169,
   "metadata": {},
   "outputs": [],
   "source": [
    "import pandas as pd\n",
    "import numpy as np\n",
    "from scipy.spatial.distance import cosine, euclidean"
   ]
  },
  {
   "cell_type": "markdown",
   "metadata": {},
   "source": [
    "### Task 1: Import data"
   ]
  },
  {
   "cell_type": "code",
   "execution_count": 170,
   "metadata": {},
   "outputs": [
    {
     "name": "stdout",
     "output_type": "stream",
     "text": [
      "   userID  itemID  rate\n",
      "0    6873    3201     4\n",
      "1    6873    3098     4\n",
      "2    6873    4198     4\n",
      "3    6873    5950     4\n",
      "4    6873     204     4\n"
     ]
    }
   ],
   "source": [
    "df_data1 = pd.read_csv(\"DBbook_train_ratings.tsv\", sep=\"\\t\")\n",
    "print(df_data1.head())"
   ]
  },
  {
   "cell_type": "code",
   "execution_count": 171,
   "metadata": {},
   "outputs": [
    {
     "name": "stdout",
     "output_type": "stream",
     "text": [
      "Unique users: 6181\n",
      "Unique books: 6166\n"
     ]
    }
   ],
   "source": [
    "print(\"Unique users: %d\" % len(df_data1[\"userID\"].unique()))\n",
    "print(\"Unique books: %d\" % len(df_data1[\"itemID\"].unique()))"
   ]
  },
  {
   "cell_type": "markdown",
   "metadata": {},
   "source": [
    "### Task 2: Utility matrix"
   ]
  },
  {
   "cell_type": "code",
   "execution_count": 172,
   "metadata": {},
   "outputs": [
    {
     "name": "stdout",
     "output_type": "stream",
     "text": [
      "Shape of the user-item matrix: 6181 x 6166\n",
      "itemID  1     2     3     5     7     8     9     11    12    13    ...  8157  \\\n",
      "userID                                                              ...         \n",
      "1        NaN   NaN   NaN   NaN   NaN   NaN   NaN   NaN   NaN   NaN  ...   NaN   \n",
      "2        NaN   NaN   NaN   NaN   NaN   NaN   NaN   NaN   NaN   NaN  ...   NaN   \n",
      "3        NaN   NaN   NaN   NaN   NaN   NaN   NaN   NaN   NaN   NaN  ...   NaN   \n",
      "4        NaN   NaN   NaN   NaN   NaN   NaN   NaN   NaN   NaN   NaN  ...   NaN   \n",
      "5        NaN   NaN   NaN   NaN   NaN   NaN   NaN   NaN   NaN   NaN  ...   NaN   \n",
      "6        NaN   NaN   NaN   NaN   NaN   NaN   NaN   NaN   NaN   NaN  ...   NaN   \n",
      "7        NaN   NaN   NaN   NaN   NaN   NaN   NaN   NaN   NaN   NaN  ...   NaN   \n",
      "8        NaN   NaN   NaN   NaN   NaN   NaN   NaN   NaN   NaN   NaN  ...   NaN   \n",
      "9        NaN   NaN   NaN   NaN   NaN   NaN   NaN   NaN   NaN   NaN  ...   NaN   \n",
      "10       NaN   NaN   NaN   NaN   NaN   NaN   NaN   NaN   NaN   NaN  ...   NaN   \n",
      "\n",
      "itemID  8160  8161  8162  8163  8164  8166  8167  8168  8169  \n",
      "userID                                                        \n",
      "1        NaN   NaN   NaN   NaN   NaN   NaN   NaN   NaN   NaN  \n",
      "2        NaN   NaN   NaN   NaN   NaN   NaN   NaN   NaN   NaN  \n",
      "3        NaN   NaN   NaN   NaN   NaN   NaN   NaN   NaN   NaN  \n",
      "4        NaN   NaN   NaN   NaN   NaN   NaN   NaN   4.0   NaN  \n",
      "5        NaN   NaN   NaN   NaN   NaN   NaN   NaN   NaN   NaN  \n",
      "6        NaN   NaN   NaN   NaN   NaN   NaN   NaN   4.0   NaN  \n",
      "7        NaN   NaN   NaN   NaN   NaN   NaN   NaN   NaN   NaN  \n",
      "8        NaN   NaN   NaN   NaN   NaN   NaN   NaN   NaN   NaN  \n",
      "9        NaN   NaN   NaN   NaN   NaN   NaN   NaN   NaN   NaN  \n",
      "10       NaN   NaN   NaN   NaN   NaN   NaN   NaN   NaN   NaN  \n",
      "\n",
      "[10 rows x 6166 columns]\n"
     ]
    }
   ],
   "source": [
    "dense_matrix = df_data1.pivot_table(values=\"rate\", index=[\"userID\"], columns=[\"itemID\"])\n",
    "print(\"Shape of the user-item matrix: %d x %d\" % dense_matrix.shape)\n",
    "print(dense_matrix.head(10))"
   ]
  },
  {
   "cell_type": "code",
   "execution_count": 173,
   "metadata": {},
   "outputs": [
    {
     "name": "stdout",
     "output_type": "stream",
     "text": [
      "Number of cells in the utility matrix with NaN: 38036488\n"
     ]
    }
   ],
   "source": [
    "print(\"Number of cells in the utility matrix with NaN: %d\" % dense_matrix.isna().sum().sum())"
   ]
  },
  {
   "cell_type": "code",
   "execution_count": 174,
   "metadata": {},
   "outputs": [
    {
     "name": "stdout",
     "output_type": "stream",
     "text": [
      "Percentage of cells in the utility matrix with NaN: 99.80%\n"
     ]
    }
   ],
   "source": [
    "print(\"Percentage of cells in the utility matrix with NaN: {:.2%}\".format(dense_matrix.isna().sum().sum()/(len(dense_matrix.columns)*len(dense_matrix.index))))"
   ]
  },
  {
   "cell_type": "code",
   "execution_count": 175,
   "metadata": {},
   "outputs": [
    {
     "data": {
      "text/html": [
       "<div>\n",
       "<style scoped>\n",
       "    .dataframe tbody tr th:only-of-type {\n",
       "        vertical-align: middle;\n",
       "    }\n",
       "\n",
       "    .dataframe tbody tr th {\n",
       "        vertical-align: top;\n",
       "    }\n",
       "\n",
       "    .dataframe thead th {\n",
       "        text-align: right;\n",
       "    }\n",
       "</style>\n",
       "<table border=\"1\" class=\"dataframe\">\n",
       "  <thead>\n",
       "    <tr style=\"text-align: right;\">\n",
       "      <th>itemID</th>\n",
       "      <th>1</th>\n",
       "      <th>2</th>\n",
       "      <th>3</th>\n",
       "      <th>5</th>\n",
       "      <th>7</th>\n",
       "      <th>8</th>\n",
       "      <th>9</th>\n",
       "      <th>11</th>\n",
       "      <th>12</th>\n",
       "      <th>13</th>\n",
       "      <th>...</th>\n",
       "      <th>8157</th>\n",
       "      <th>8160</th>\n",
       "      <th>8161</th>\n",
       "      <th>8162</th>\n",
       "      <th>8163</th>\n",
       "      <th>8164</th>\n",
       "      <th>8166</th>\n",
       "      <th>8167</th>\n",
       "      <th>8168</th>\n",
       "      <th>8169</th>\n",
       "    </tr>\n",
       "    <tr>\n",
       "      <th>userID</th>\n",
       "      <th></th>\n",
       "      <th></th>\n",
       "      <th></th>\n",
       "      <th></th>\n",
       "      <th></th>\n",
       "      <th></th>\n",
       "      <th></th>\n",
       "      <th></th>\n",
       "      <th></th>\n",
       "      <th></th>\n",
       "      <th></th>\n",
       "      <th></th>\n",
       "      <th></th>\n",
       "      <th></th>\n",
       "      <th></th>\n",
       "      <th></th>\n",
       "      <th></th>\n",
       "      <th></th>\n",
       "      <th></th>\n",
       "      <th></th>\n",
       "      <th></th>\n",
       "    </tr>\n",
       "  </thead>\n",
       "  <tbody>\n",
       "    <tr>\n",
       "      <th>1</th>\n",
       "      <td>0.0</td>\n",
       "      <td>0.0</td>\n",
       "      <td>0.0</td>\n",
       "      <td>0.0</td>\n",
       "      <td>0.0</td>\n",
       "      <td>0.0</td>\n",
       "      <td>0.0</td>\n",
       "      <td>0.0</td>\n",
       "      <td>0.0</td>\n",
       "      <td>0.0</td>\n",
       "      <td>...</td>\n",
       "      <td>0.0</td>\n",
       "      <td>0.0</td>\n",
       "      <td>0.0</td>\n",
       "      <td>0.0</td>\n",
       "      <td>0.0</td>\n",
       "      <td>0.0</td>\n",
       "      <td>0.0</td>\n",
       "      <td>0.0</td>\n",
       "      <td>0.0</td>\n",
       "      <td>0.0</td>\n",
       "    </tr>\n",
       "    <tr>\n",
       "      <th>2</th>\n",
       "      <td>0.0</td>\n",
       "      <td>0.0</td>\n",
       "      <td>0.0</td>\n",
       "      <td>0.0</td>\n",
       "      <td>0.0</td>\n",
       "      <td>0.0</td>\n",
       "      <td>0.0</td>\n",
       "      <td>0.0</td>\n",
       "      <td>0.0</td>\n",
       "      <td>0.0</td>\n",
       "      <td>...</td>\n",
       "      <td>0.0</td>\n",
       "      <td>0.0</td>\n",
       "      <td>0.0</td>\n",
       "      <td>0.0</td>\n",
       "      <td>0.0</td>\n",
       "      <td>0.0</td>\n",
       "      <td>0.0</td>\n",
       "      <td>0.0</td>\n",
       "      <td>0.0</td>\n",
       "      <td>0.0</td>\n",
       "    </tr>\n",
       "    <tr>\n",
       "      <th>3</th>\n",
       "      <td>0.0</td>\n",
       "      <td>0.0</td>\n",
       "      <td>0.0</td>\n",
       "      <td>0.0</td>\n",
       "      <td>0.0</td>\n",
       "      <td>0.0</td>\n",
       "      <td>0.0</td>\n",
       "      <td>0.0</td>\n",
       "      <td>0.0</td>\n",
       "      <td>0.0</td>\n",
       "      <td>...</td>\n",
       "      <td>0.0</td>\n",
       "      <td>0.0</td>\n",
       "      <td>0.0</td>\n",
       "      <td>0.0</td>\n",
       "      <td>0.0</td>\n",
       "      <td>0.0</td>\n",
       "      <td>0.0</td>\n",
       "      <td>0.0</td>\n",
       "      <td>0.0</td>\n",
       "      <td>0.0</td>\n",
       "    </tr>\n",
       "    <tr>\n",
       "      <th>4</th>\n",
       "      <td>0.0</td>\n",
       "      <td>0.0</td>\n",
       "      <td>0.0</td>\n",
       "      <td>0.0</td>\n",
       "      <td>0.0</td>\n",
       "      <td>0.0</td>\n",
       "      <td>0.0</td>\n",
       "      <td>0.0</td>\n",
       "      <td>0.0</td>\n",
       "      <td>0.0</td>\n",
       "      <td>...</td>\n",
       "      <td>0.0</td>\n",
       "      <td>0.0</td>\n",
       "      <td>0.0</td>\n",
       "      <td>0.0</td>\n",
       "      <td>0.0</td>\n",
       "      <td>0.0</td>\n",
       "      <td>0.0</td>\n",
       "      <td>0.0</td>\n",
       "      <td>4.0</td>\n",
       "      <td>0.0</td>\n",
       "    </tr>\n",
       "    <tr>\n",
       "      <th>5</th>\n",
       "      <td>0.0</td>\n",
       "      <td>0.0</td>\n",
       "      <td>0.0</td>\n",
       "      <td>0.0</td>\n",
       "      <td>0.0</td>\n",
       "      <td>0.0</td>\n",
       "      <td>0.0</td>\n",
       "      <td>0.0</td>\n",
       "      <td>0.0</td>\n",
       "      <td>0.0</td>\n",
       "      <td>...</td>\n",
       "      <td>0.0</td>\n",
       "      <td>0.0</td>\n",
       "      <td>0.0</td>\n",
       "      <td>0.0</td>\n",
       "      <td>0.0</td>\n",
       "      <td>0.0</td>\n",
       "      <td>0.0</td>\n",
       "      <td>0.0</td>\n",
       "      <td>0.0</td>\n",
       "      <td>0.0</td>\n",
       "    </tr>\n",
       "  </tbody>\n",
       "</table>\n",
       "<p>5 rows × 6166 columns</p>\n",
       "</div>"
      ],
      "text/plain": [
       "itemID  1     2     3     5     7     8     9     11    12    13    ...  8157  \\\n",
       "userID                                                              ...         \n",
       "1        0.0   0.0   0.0   0.0   0.0   0.0   0.0   0.0   0.0   0.0  ...   0.0   \n",
       "2        0.0   0.0   0.0   0.0   0.0   0.0   0.0   0.0   0.0   0.0  ...   0.0   \n",
       "3        0.0   0.0   0.0   0.0   0.0   0.0   0.0   0.0   0.0   0.0  ...   0.0   \n",
       "4        0.0   0.0   0.0   0.0   0.0   0.0   0.0   0.0   0.0   0.0  ...   0.0   \n",
       "5        0.0   0.0   0.0   0.0   0.0   0.0   0.0   0.0   0.0   0.0  ...   0.0   \n",
       "\n",
       "itemID  8160  8161  8162  8163  8164  8166  8167  8168  8169  \n",
       "userID                                                        \n",
       "1        0.0   0.0   0.0   0.0   0.0   0.0   0.0   0.0   0.0  \n",
       "2        0.0   0.0   0.0   0.0   0.0   0.0   0.0   0.0   0.0  \n",
       "3        0.0   0.0   0.0   0.0   0.0   0.0   0.0   0.0   0.0  \n",
       "4        0.0   0.0   0.0   0.0   0.0   0.0   0.0   4.0   0.0  \n",
       "5        0.0   0.0   0.0   0.0   0.0   0.0   0.0   0.0   0.0  \n",
       "\n",
       "[5 rows x 6166 columns]"
      ]
     },
     "execution_count": 175,
     "metadata": {},
     "output_type": "execute_result"
    }
   ],
   "source": [
    "dense_matrix = dense_matrix.fillna(0)\n",
    "dense_matrix.head()"
   ]
  },
  {
   "cell_type": "markdown",
   "metadata": {},
   "source": [
    "### Task 3: userID 2 - top 5 similar users based on Euclidean distance"
   ]
  },
  {
   "cell_type": "code",
   "execution_count": 176,
   "metadata": {},
   "outputs": [
    {
     "name": "stderr",
     "output_type": "stream",
     "text": [
      "C:\\Users\\chris\\Anaconda3\\lib\\site-packages\\ipykernel_launcher.py:3: SettingWithCopyWarning: \n",
      "A value is trying to be set on a copy of a slice from a DataFrame.\n",
      "Try using .loc[row_indexer,col_indexer] = value instead\n",
      "\n",
      "See the caveats in the documentation: https://pandas.pydata.org/pandas-docs/stable/user_guide/indexing.html#returning-a-view-versus-a-copy\n",
      "  This is separate from the ipykernel package so we can avoid doing imports until\n"
     ]
    },
    {
     "data": {
      "text/plain": [
       "userID\n",
       "3917    11.401754\n",
       "6875    12.569805\n",
       "986     12.806248\n",
       "1983    12.884099\n",
       "1156    12.922848\n",
       "Name: distance, dtype: float64"
      ]
     },
     "execution_count": 176,
     "metadata": {},
     "output_type": "execute_result"
    }
   ],
   "source": [
    "def top_k_users(user_number, k):\n",
    "    df_sim = dense_matrix.loc[dense_matrix.index != user_number] # remove the active user\n",
    "    df_sim[\"distance\"] = df_sim.apply(lambda x: euclidean(dense_matrix.loc[user_number], x), axis=1)     # calculate the distance for between the given user and each row\n",
    "    return df_sim.sort_values(by=\"distance\").head(k)[\"distance\"]     # return the top k from the sorted distances\n",
    "\n",
    "top_k_users(2, 5) # retrieve top five similar users to userID 2"
   ]
  },
  {
   "cell_type": "markdown",
   "metadata": {},
   "source": [
    "### Task 4: Comparisons - Euclidean distance"
   ]
  },
  {
   "cell_type": "code",
   "execution_count": 177,
   "metadata": {},
   "outputs": [
    {
     "name": "stdout",
     "output_type": "stream",
     "text": [
      "The Euclidean distance between itemID 18 and itemID 1: 29.189039\n"
     ]
    }
   ],
   "source": [
    "print(\"The Euclidean distance between itemID 18 and itemID 1: {:.6f}\".format(euclidean(dense_matrix[18], dense_matrix[1])))"
   ]
  },
  {
   "cell_type": "code",
   "execution_count": 178,
   "metadata": {},
   "outputs": [
    {
     "name": "stdout",
     "output_type": "stream",
     "text": [
      "The Euclidean distance between itemID 36 and itemID 1: 40.124805\n"
     ]
    }
   ],
   "source": [
    "print(\"The Euclidean distance between itemID 36 and itemID 1: {:.6f}\".format(euclidean(dense_matrix[36], dense_matrix[1])))"
   ]
  },
  {
   "cell_type": "code",
   "execution_count": 179,
   "metadata": {},
   "outputs": [
    {
     "name": "stdout",
     "output_type": "stream",
     "text": [
      "ItemID 18 is more similar to itemID 1 because its Euclidean distance is less than that of itemID 36.\n"
     ]
    }
   ],
   "source": [
    "print(\"ItemID 18 is more similar to itemID 1 because its Euclidean distance is less than that of itemID 36.\")"
   ]
  },
  {
   "cell_type": "markdown",
   "metadata": {},
   "source": [
    "### Task 5: itemID 8010 - top 5 similar items based on Euclidean distance"
   ]
  },
  {
   "cell_type": "code",
   "execution_count": 180,
   "metadata": {},
   "outputs": [
    {
     "data": {
      "text/plain": [
       "itemID\n",
       "3711    127.921851\n",
       "4559    127.964839\n",
       "330     129.715072\n",
       "1311    129.722781\n",
       "7328    129.761319\n",
       "Name: distance, dtype: float64"
      ]
     },
     "execution_count": 180,
     "metadata": {},
     "output_type": "execute_result"
    }
   ],
   "source": [
    "def top_k_items(item_number, k):\n",
    "    df_sim = dense_matrix.transpose() # copy the dense matrix and transpose it so each row represents an item\n",
    "    df_sim = df_sim.loc[df_sim.index != item_number] # remove the active item \n",
    "    df_sim[\"distance\"] = df_sim.apply(lambda x: euclidean(dense_matrix[item_number], x), axis=1) # calculate the distance between the given item for each row (apply the function to each row if axis = 1)\n",
    "    return df_sim.sort_values(by=\"distance\").head(k)[\"distance\"] # return the top k from the sorted distances    \n",
    "\n",
    "top_k_items(8010, 5) # retrieve top five similar items to itemID 8010"
   ]
  },
  {
   "cell_type": "markdown",
   "metadata": {},
   "source": [
    "### Task 6: remove books and users with less than 20 rating scores"
   ]
  },
  {
   "cell_type": "code",
   "execution_count": 181,
   "metadata": {},
   "outputs": [
    {
     "name": "stdout",
     "output_type": "stream",
     "text": [
      "(766, 776)\n"
     ]
    }
   ],
   "source": [
    "df_item_fre = df_data1.groupby(\"itemID\").count()\n",
    "df_user_fre = df_data1.groupby(\"userID\").count()\n",
    "selected_items = df_item_fre[df_item_fre[\"userID\"]>20].index\n",
    "dense_matrix = dense_matrix[selected_items]\n",
    "selected_users = df_user_fre[df_user_fre[\"itemID\"]>20].index\n",
    "dense_matrix = dense_matrix.loc[selected_users]\n",
    "print(dense_matrix.shape)"
   ]
  },
  {
   "cell_type": "markdown",
   "metadata": {},
   "source": [
    "### Task 7: itemID8010 - value counts"
   ]
  },
  {
   "cell_type": "code",
   "execution_count": 182,
   "metadata": {},
   "outputs": [],
   "source": [
    "#remove users that haven't rated itemID8010\n",
    "df_itemID8010 = dense_matrix[dense_matrix[8010] != 0]"
   ]
  },
  {
   "cell_type": "code",
   "execution_count": 183,
   "metadata": {},
   "outputs": [
    {
     "data": {
      "text/plain": [
       "4.0    68\n",
       "5.0    58\n",
       "3.0    27\n",
       "2.0    13\n",
       "1.0     8\n",
       "Name: 8010, dtype: int64"
      ]
     },
     "execution_count": 183,
     "metadata": {},
     "output_type": "execute_result"
    }
   ],
   "source": [
    "#counts of the different rating scores for itemID8010\n",
    "df_itemID8010[8010].value_counts()"
   ]
  },
  {
   "cell_type": "code",
   "execution_count": 184,
   "metadata": {},
   "outputs": [
    {
     "name": "stdout",
     "output_type": "stream",
     "text": [
      "(174, 776)\n"
     ]
    }
   ],
   "source": [
    "#shape of the dataset\n",
    "print(df_itemID8010.shape)"
   ]
  },
  {
   "cell_type": "markdown",
   "metadata": {},
   "source": [
    "### Task 8: Partition data set"
   ]
  },
  {
   "cell_type": "code",
   "execution_count": 185,
   "metadata": {},
   "outputs": [
    {
     "name": "stdout",
     "output_type": "stream",
     "text": [
      "Training set dimensions: train_x is (130, 775) train_y is (130, 1).\n",
      "Test set dimensions: test_x is (44, 775) test_y is (44, 1).\n"
     ]
    }
   ],
   "source": [
    "# print the dimensions of the training set and testing set\n",
    "\n",
    "from sklearn.model_selection import train_test_split\n",
    "\n",
    "df_x = df_itemID8010[[col for col in df_itemID8010.columns if col != 8010]] # create a data frame for the predictors\n",
    "df_y = df_itemID8010[[8010]] # create a series for the outcome\n",
    "\n",
    "train_x, test_x, train_y, test_y = train_test_split(df_x, df_y, test_size=0.25, random_state=0)\n",
    "df_train_x = pd.DataFrame(train_x, columns=df_x.columns)\n",
    "df_test_x = pd.DataFrame(test_x, columns=df_x.columns)\n",
    "df_train_y = pd.DataFrame(train_y, columns=[8010])\n",
    "df_test_y = pd.DataFrame(test_y, columns=[8010])\n",
    "\n",
    "print(\"Training set dimensions: train_x is \" + str(df_train_x.shape) + \" train_y is \" + str(df_train_y.shape) + \".\")\n",
    "print(\"Test set dimensions: test_x is \" + str(df_test_x.shape) + \" test_y is \" + str(df_test_y.shape) + \".\")"
   ]
  },
  {
   "cell_type": "code",
   "execution_count": 186,
   "metadata": {},
   "outputs": [
    {
     "name": "stdout",
     "output_type": "stream",
     "text": [
      "Training set mean rating for itemID8010: 3.915385\n"
     ]
    }
   ],
   "source": [
    "print(\"Training set mean rating for itemID8010: {:.6f}\".format(train_y[8010].mean()))"
   ]
  },
  {
   "cell_type": "code",
   "execution_count": 187,
   "metadata": {},
   "outputs": [
    {
     "name": "stdout",
     "output_type": "stream",
     "text": [
      "Testing set mean rating for itemID8010: 3.818182\n"
     ]
    }
   ],
   "source": [
    "print(\"Testing set mean rating for itemID8010: {:.6f}\".format(test_y[8010].mean()))"
   ]
  },
  {
   "cell_type": "markdown",
   "metadata": {},
   "source": [
    "### Task 9: Predicted rating"
   ]
  },
  {
   "cell_type": "code",
   "execution_count": 188,
   "metadata": {},
   "outputs": [
    {
     "name": "stdout",
     "output_type": "stream",
     "text": [
      "5614\n"
     ]
    }
   ],
   "source": [
    "# print the userID of the the user in the 5th row (not userID5) in the test dataset\n",
    "uid = df_test_x.index[4] \n",
    "print(uid)"
   ]
  },
  {
   "cell_type": "code",
   "execution_count": 189,
   "metadata": {},
   "outputs": [],
   "source": [
    "k = 5 # specify the number of similar users to retrieve\n",
    "\n",
    "def user_based_predict(user_number):\n",
    "    # retrieve the top k similar users\n",
    "    # copy from all the training predictors\n",
    "    df_sim = df_train_x.copy()\n",
    "    # for each user, calculate the distance between this user and the active user\n",
    "    df_sim[\"distance\"] = df_sim.apply(lambda x: euclidean(df_test_x.loc[user_number], x), axis=1)\n",
    "    # create a new data frame to store the top k similar users\n",
    "    df_sim_users = df_sim.loc[df_sim.sort_values(by=\"distance\").head(k).index]\n",
    "    # calculate these similar users' rating on itemID 8010, weighted by distance\n",
    "    df_sim_users[\"weighed_d\"] = list(map(lambda x: df_sim_users.loc[x][\"distance\"]*df_train_y.loc[x][8010], df_sim_users.index))\n",
    "    predicted = df_sim_users[\"weighed_d\"].sum()/df_sim_users[\"distance\"].sum()\n",
    "    return predicted"
   ]
  },
  {
   "cell_type": "code",
   "execution_count": 190,
   "metadata": {},
   "outputs": [
    {
     "name": "stdout",
     "output_type": "stream",
     "text": [
      "Predicted rating on itemID 8010: 4.013489148846391\n",
      "Actual rating on itemID 8010:      4.0\n"
     ]
    }
   ],
   "source": [
    "print(\"Predicted rating on itemID 8010:\", user_based_predict(uid))\n",
    "print(\"Actual rating on itemID 8010:     \", df_test_y.loc[uid][8010])"
   ]
  },
  {
   "cell_type": "markdown",
   "metadata": {},
   "source": [
    "### Task 10: Describe filtering methods"
   ]
  },
  {
   "attachments": {},
   "cell_type": "markdown",
   "metadata": {},
   "source": [
    "#### Use your own language (<= 6 sentences) to briefly describe content-based filtering. \n",
    "\n",
    "Content-based filtering:\n",
    "This type of recommender system generates user preference information. These user preferences are then used to predict user ratings. Finally, the predicted ratings are used to recommend items to users. In this approach, the item feature vectors are already known, but the user feature vectors must be learned. Information on other users is not needed to utilize content-based filtering. "
   ]
  },
  {
   "cell_type": "markdown",
   "metadata": {},
   "source": [
    "#### Use your own language (<= 6 sentences) to briefly describe model-based collaborative filtering. \n",
    "\n",
    "Model-based collaborative filtering:\n",
    "This type of recommender system generates user rating information. It takes a utility matrix of user ratings and items and performs singular value decomposition (SVD). Unknown feature vectors and unknown user vectors are initialized to small random values, and gradient descent is used to solve the optimzation problem. "
   ]
  },
  {
   "attachments": {},
   "cell_type": "markdown",
   "metadata": {},
   "source": [
    "#### Summarize the differences between content-based filtering and model-based collaborative filtering? (at least two differences). \n",
    "\n",
    "In content-based filtering, item features are known, but user features are unknown. In model-based collaborative filtering, both item features and user features are not known.\n",
    "\n",
    "Conent-based filtering can be used for new items because it doesn't suffer from cold start problems on items. Model-based collaborative filtering cannot be used on new items.\n"
   ]
  }
 ],
 "metadata": {
  "kernelspec": {
   "display_name": "Python 3",
   "language": "python",
   "name": "python3"
  },
  "language_info": {
   "codemirror_mode": {
    "name": "ipython",
    "version": 3
   },
   "file_extension": ".py",
   "mimetype": "text/x-python",
   "name": "python",
   "nbconvert_exporter": "python",
   "pygments_lexer": "ipython3",
   "version": "3.7.9"
  }
 },
 "nbformat": 4,
 "nbformat_minor": 4
}
